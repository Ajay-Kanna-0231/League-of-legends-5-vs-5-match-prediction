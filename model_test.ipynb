{
 "cells": [
  {
   "cell_type": "code",
   "execution_count": 1,
   "metadata": {},
   "outputs": [
    {
     "name": "stdout",
     "output_type": "stream",
     "text": [
      "{'model_name': 'Random Forest', 'best_params': {'max_depth': 30, 'min_samples_leaf': 1, 'min_samples_split': 2, 'n_estimators': 50}, 'best_accuracy': 0.9518679050567596}\n"
     ]
    }
   ],
   "source": [
    "import pickle\n",
    "\n",
    "# Load best_model_info from the binary file\n",
    "with open('best_model_info.pkl', 'rb') as f:\n",
    "    best_model_info = pickle.load(f)\n",
    "\n",
    "# Now best_model_info contains your stored information\n",
    "print(best_model_info)"
   ]
  },
  {
   "cell_type": "code",
   "execution_count": 2,
   "metadata": {},
   "outputs": [
    {
     "ename": "NameError",
     "evalue": "name 'StandardScaler' is not defined",
     "output_type": "error",
     "traceback": [
      "\u001b[1;31m---------------------------------------------------------------------------\u001b[0m",
      "\u001b[1;31mNameError\u001b[0m                                 Traceback (most recent call last)",
      "Cell \u001b[1;32mIn[2], line 10\u001b[0m\n\u001b[0;32m      7\u001b[0m y_test \u001b[38;5;241m=\u001b[39m test_df[\u001b[38;5;124m'\u001b[39m\u001b[38;5;124mblue_win\u001b[39m\u001b[38;5;124m'\u001b[39m]\n\u001b[0;32m      9\u001b[0m \u001b[38;5;66;03m# Assuming X_train was scaled with StandardScaler during training\u001b[39;00m\n\u001b[1;32m---> 10\u001b[0m scaler \u001b[38;5;241m=\u001b[39m \u001b[43mStandardScaler\u001b[49m()\n\u001b[0;32m     11\u001b[0m X_train \u001b[38;5;241m=\u001b[39m scaler\u001b[38;5;241m.\u001b[39mfit_transform(X_train)  \u001b[38;5;66;03m# This is for reference, during training\u001b[39;00m\n\u001b[0;32m     13\u001b[0m \u001b[38;5;66;03m# Scale the test data\u001b[39;00m\n",
      "\u001b[1;31mNameError\u001b[0m: name 'StandardScaler' is not defined"
     ]
    }
   ],
   "source": [
    "import pandas as pd\n",
    "# Load test data\n",
    "test_df = pd.read_csv('test_data_set.csv')\n",
    "\n",
    "# Ensure the test DataFrame has the same structure as the training DataFrame\n",
    "X_test = test_df.drop(columns=['blue_win'])\n",
    "y_test = test_df['blue_win']\n",
    "\n",
    "# Assuming X_train was scaled with StandardScaler during training\n",
    "scaler = StandardScaler()\n",
    "X_train = scaler.fit_transform(X_train)  # This is for reference, during training\n",
    "\n",
    "# Scale the test data\n",
    "X_test_scaled = scaler.transform(X_test)"
   ]
  },
  {
   "cell_type": "code",
   "execution_count": null,
   "metadata": {},
   "outputs": [],
   "source": [
    "best_model_name = best_model_info['model_name']\n",
    "best_params = best_model_info['best_params']\n",
    "\n",
    "# Initialize the model with the best parameters\n",
    "if best_model_name == 'Logistic Regression':\n",
    "    best_model = LogisticRegression(**best_params)\n",
    "elif best_model_name == 'Random Forest':\n",
    "    best_model = RandomForestClassifier(**best_params)\n",
    "elif best_model_name == 'SVM':\n",
    "    best_model = SVC(**best_params)\n",
    "elif best_model_name == 'Gradient Boosting':\n",
    "    best_model = GradientBoostingClassifier(**best_params)\n",
    "elif best_model_name == 'Decision Tree':\n",
    "    best_model = DecisionTreeClassifier(**best_params)\n",
    "elif best_model_name == 'k-NN':\n",
    "    best_model = KNeighborsClassifier(**best_params)\n",
    "else:\n",
    "    raise ValueError(f\"Unsupported model: {best_model_name}\")\n",
    "\n",
    "# Fit the model on the entire training set (as the best parameters were found using cross-validation)\n",
    "best_model.fit(X, y)"
   ]
  },
  {
   "cell_type": "code",
   "execution_count": null,
   "metadata": {},
   "outputs": [],
   "source": [
    "# Predict the test set results\n",
    "y_pred = best_model.predict(X_test_scaled)\n",
    "\n",
    "# Evaluate the model\n",
    "test_accuracy = accuracy_score(y_test, y_pred)\n",
    "\n",
    "print(f\"Test Accuracy: {test_accuracy}\")"
   ]
  }
 ],
 "metadata": {
  "kernelspec": {
   "display_name": "Python 3",
   "language": "python",
   "name": "python3"
  },
  "language_info": {
   "codemirror_mode": {
    "name": "ipython",
    "version": 3
   },
   "file_extension": ".py",
   "mimetype": "text/x-python",
   "name": "python",
   "nbconvert_exporter": "python",
   "pygments_lexer": "ipython3",
   "version": "3.12.1"
  }
 },
 "nbformat": 4,
 "nbformat_minor": 2
}
