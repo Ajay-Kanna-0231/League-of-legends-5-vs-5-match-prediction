{
 "cells": [
  {
   "cell_type": "code",
   "execution_count": 1,
   "metadata": {},
   "outputs": [
    {
     "name": "stdout",
     "output_type": "stream",
     "text": [
      "{'model_name': 'Logistic Regression', 'best_params': {'C': 0.1, 'penalty': 'l1', 'solver': 'liblinear'}, 'best_accuracy': 0.9611844077961018}\n"
     ]
    }
   ],
   "source": [
    "import pickle\n",
    "\n",
    "# Load best_model_info from the binary file\n",
    "with open('best_model_info.pkl', 'rb') as f:\n",
    "    best_model_info = pickle.load(f)\n",
    "\n",
    "# Now best_model_info contains your stored information\n",
    "print(best_model_info)"
   ]
  },
  {
   "cell_type": "code",
   "execution_count": null,
   "metadata": {},
   "outputs": [],
   "source": [
    "import pandas as pd\n",
    "\n",
    "# Load test data\n",
    "test_df = pd.read_csv('test_data_set.csv')\n",
    "\n",
    "# Ensure the test DataFrame has the same structure as the training DataFrame\n",
    "X_test = test_df.drop(columns=['blue_win'])\n",
    "y_test = test_df['blue_win']"
   ]
  },
  {
   "cell_type": "code",
   "execution_count": null,
   "metadata": {},
   "outputs": [],
   "source": [
    "from sklearn.preprocessing import StandardScaler\n",
    "\n",
    "# Assuming X_train was scaled with StandardScaler during training\n",
    "scaler = StandardScaler()\n",
    "X_train = scaler.fit_transform(X_train)  # This is for reference, during training\n",
    "\n",
    "# Scale the test data\n",
    "X_test_scaled = scaler.transform(X_test)"
   ]
  },
  {
   "cell_type": "code",
   "execution_count": null,
   "metadata": {},
   "outputs": [],
   "source": []
  }
 ],
 "metadata": {
  "kernelspec": {
   "display_name": "Python 3",
   "language": "python",
   "name": "python3"
  },
  "language_info": {
   "codemirror_mode": {
    "name": "ipython",
    "version": 3
   },
   "file_extension": ".py",
   "mimetype": "text/x-python",
   "name": "python",
   "nbconvert_exporter": "python",
   "pygments_lexer": "ipython3",
   "version": "3.12.1"
  }
 },
 "nbformat": 4,
 "nbformat_minor": 2
}
