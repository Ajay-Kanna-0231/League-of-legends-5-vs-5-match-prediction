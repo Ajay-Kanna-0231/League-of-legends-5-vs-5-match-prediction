{
 "cells": [
  {
   "cell_type": "code",
   "execution_count": null,
   "metadata": {},
   "outputs": [],
   "source": [
    "import pickle\n",
    "\n",
    "# Load best_model_info from the binary file\n",
    "with open('best_model_info.pkl', 'rb') as f:\n",
    "    best_model_info = pickle.load(f)\n",
    "\n",
    "# Now best_model_info contains your stored information\n",
    "print(best_model_info)"
   ]
  },
  {
   "cell_type": "code",
   "execution_count": null,
   "metadata": {},
   "outputs": [],
   "source": [
    "import pandas as pd\n",
    "# Load test data\n",
    "test_df = pd.read_csv('data/test_data_set.csv')\n",
    "\n",
    "# Ensure the test DataFrame has the same structure as the training DataFrame\n",
    "X_test = test_df.drop(columns=['blue_win'])\n",
    "y_test = test_df['blue_win']\n",
    "\n",
    "# Assuming X_train was scaled with StandardScaler during training\n",
    "scaler = StandardScaler()\n",
    "X_train = scaler.fit_transform(X_train)  # This is for reference, during training\n",
    "\n",
    "# Scale the test data\n",
    "X_test_scaled = scaler.transform(X_test)"
   ]
  },
  {
   "cell_type": "code",
   "execution_count": null,
   "metadata": {},
   "outputs": [],
   "source": [
    "best_model_name = best_model_info['model_name']\n",
    "best_params = best_model_info['best_params']\n",
    "\n",
    "# Initialize the model with the best parameters\n",
    "if best_model_name == 'Logistic Regression':\n",
    "    best_model = LogisticRegression(**best_params)\n",
    "elif best_model_name == 'Random Forest':\n",
    "    best_model = RandomForestClassifier(**best_params)\n",
    "elif best_model_name == 'SVM':\n",
    "    best_model = SVC(**best_params)\n",
    "elif best_model_name == 'Gradient Boosting':\n",
    "    best_model = GradientBoostingClassifier(**best_params)\n",
    "elif best_model_name == 'Decision Tree':\n",
    "    best_model = DecisionTreeClassifier(**best_params)\n",
    "elif best_model_name == 'k-NN':\n",
    "    best_model = KNeighborsClassifier(**best_params)\n",
    "else:\n",
    "    raise ValueError(f\"Unsupported model: {best_model_name}\")\n",
    "\n",
    "# Fit the model on the entire training set (as the best parameters were found using cross-validation)\n",
    "best_model.fit(X, y)"
   ]
  },
  {
   "cell_type": "code",
   "execution_count": null,
   "metadata": {},
   "outputs": [],
   "source": [
    "# Predict the test set results\n",
    "y_pred = best_model.predict(X_test_scaled)\n",
    "\n",
    "# Evaluate the model\n",
    "test_accuracy = accuracy_score(y_test, y_pred)\n",
    "\n",
    "print(f\"Test Accuracy: {test_accuracy}\")"
   ]
  }
 ],
 "metadata": {
  "kernelspec": {
   "display_name": "Python 3",
   "language": "python",
   "name": "python3"
  },
  "language_info": {
   "codemirror_mode": {
    "name": "ipython",
    "version": 3
   },
   "file_extension": ".py",
   "mimetype": "text/x-python",
   "name": "python",
   "nbconvert_exporter": "python",
   "pygments_lexer": "ipython3",
   "version": "3.12.1"
  }
 },
 "nbformat": 4,
 "nbformat_minor": 2
}
